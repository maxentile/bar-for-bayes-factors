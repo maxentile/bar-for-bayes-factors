{
 "cells": [
  {
   "cell_type": "code",
   "execution_count": 1,
   "metadata": {
    "collapsed": true
   },
   "outputs": [],
   "source": [
    "import numpy as np\n",
    "import numpy.random as npr\n",
    "import matplotlib.pyplot as plt\n",
    "import scipy.stats\n",
    "\n",
    "%matplotlib inline"
   ]
  },
  {
   "cell_type": "code",
   "execution_count": 2,
   "metadata": {
    "collapsed": true
   },
   "outputs": [],
   "source": [
    "# Experiments from \"discriminance sampling\" paper: MRF on 10x10 grid"
   ]
  },
  {
   "cell_type": "code",
   "execution_count": 7,
   "metadata": {
    "collapsed": true
   },
   "outputs": [],
   "source": [
    "import itertools\n",
    "\n",
    "class GridMRF():\n",
    "    ''' simple MRF with binary-valued variables and a grid of linear potentials'''\n",
    "    \n",
    "    def __init__(self,interaction_weights,external_fields):\n",
    "        '''\n",
    "        Parameters\n",
    "        ----------\n",
    "        interaction_weights : (N,N), numpy.ndarray\n",
    "            interaction_weights[i,j] is the coupling strength between x[i] and x[j]\n",
    "        external_fields : (N,), numpy.ndarray\n",
    "            external_fields[i] is the \n",
    "        \n",
    "        Attributes\n",
    "        ----------\n",
    "        Z : float\n",
    "            exactly computed normalizing constant\n",
    "        \n",
    "        '''\n",
    "        assert(interaction_weights.shape[0] == interaction_weights.shape[1])\n",
    "        assert(interaction_weights.shape[0] == len(external_fields))\n",
    "        \n",
    "        self.interaction_weights = interaction_weights\n",
    "        self.external_fields = external_fields\n",
    "        \n",
    "        # summing over ~2^20 states is easy, >2^25 is going to be sloooooww\n",
    "        assert(len(external_fields) < 25) \n",
    "        self.Z = self.compute_exact_Z()\n",
    "    \n",
    "    def p_star(self,x):\n",
    "        ''' unnormalized probability of x '''\n",
    "        interaction_terms = x.T.dot(self.interaction_weights).dot(x)\n",
    "        external_terms = x.T.dot(self.external_fields)\n",
    "        return np.exp(interaction_terms+external_terms)\n",
    "    \n",
    "    def p(self,x):\n",
    "        ''' normalized probability of x '''\n",
    "        return self.p_star(x) / self.Z\n",
    "    \n",
    "    def compute_exact_Z(self):\n",
    "        ''' sum over all x \\in {0,1}^n_units '''\n",
    "        n_units = len(self.external_fields)\n",
    "        return sum([self.p_star(np.array(x)) for x in itertools.product(*[range(2)]*n_units)])"
   ]
  },
  {
   "cell_type": "code",
   "execution_count": 8,
   "metadata": {
    "collapsed": true
   },
   "outputs": [],
   "source": [
    "def generate_random_MRF(sigma_interaction, sigma_bias=0.1, n_units=10):\n",
    "    ''' generate an GridMRF instance with gaussian couplings '''\n",
    "    interaction_weights = npr.normal(loc=0,scale=sigma_interaction,size=(n_units,n_units))\n",
    "    external_fields = npr.normal(loc=0,scale=sigma_bias,size=(n_units))\n",
    "    mrf = GridMRF(interaction_weights,external_fields)\n",
    "    return mrf"
   ]
  },
  {
   "cell_type": "code",
   "execution_count": 23,
   "metadata": {
    "collapsed": true
   },
   "outputs": [],
   "source": [
    "def sample_uniform_bit_string(length=20):\n",
    "    return npr.randint(0,2,length)"
   ]
  },
  {
   "cell_type": "code",
   "execution_count": 10,
   "metadata": {
    "collapsed": false
   },
   "outputs": [],
   "source": [
    "n_units=20\n",
    "mrf = generate_random_MRF(1.0,n_units=n_units)"
   ]
  },
  {
   "cell_type": "code",
   "execution_count": 11,
   "metadata": {
    "collapsed": false
   },
   "outputs": [
    {
     "data": {
      "text/plain": [
       "(17.388857330329625, 2.2417975611112489e-11)"
      ]
     },
     "execution_count": 11,
     "metadata": {},
     "output_type": "execute_result"
    }
   ],
   "source": [
    "x = sample_uniform_bit_string(n_units)\n",
    "\n",
    "mrf.p_star(x),mrf.p(x)"
   ]
  },
  {
   "cell_type": "code",
   "execution_count": 12,
   "metadata": {
    "collapsed": true
   },
   "outputs": [],
   "source": [
    "xs = np.array([x for x in itertools.product(*[range(2)]*n_units)])\n",
    "\n",
    "values = [mrf.p(x) for x in xs]"
   ]
  },
  {
   "cell_type": "code",
   "execution_count": 13,
   "metadata": {
    "collapsed": false
   },
   "outputs": [
    {
     "data": {
      "text/plain": [
       "1.2892149947087716e-12"
      ]
     },
     "execution_count": 13,
     "metadata": {},
     "output_type": "execute_result"
    }
   ],
   "source": [
    "values[0]"
   ]
  },
  {
   "cell_type": "code",
   "execution_count": 15,
   "metadata": {
    "collapsed": false
   },
   "outputs": [],
   "source": [
    "import scipy.stats\n",
    "\n",
    "N = 1000\n",
    "# draw from target distribution directly\n",
    "rv = scipy.stats.rv_discrete(values=(range(len(values)),values))\n",
    "target_samples = xs[rv.rvs(size=N)]"
   ]
  },
  {
   "cell_type": "code",
   "execution_count": 16,
   "metadata": {
    "collapsed": false
   },
   "outputs": [],
   "source": [
    "uniform_samples = npr.randint(0,2,(N,n_units))"
   ]
  },
  {
   "cell_type": "code",
   "execution_count": 17,
   "metadata": {
    "collapsed": false
   },
   "outputs": [],
   "source": [
    "target_sample_f = ([mrf.p_star(x) for x in target_samples])"
   ]
  },
  {
   "cell_type": "code",
   "execution_count": 18,
   "metadata": {
    "collapsed": false
   },
   "outputs": [
    {
     "data": {
      "text/plain": [
       "775665815325.00403"
      ]
     },
     "execution_count": 18,
     "metadata": {},
     "output_type": "execute_result"
    }
   ],
   "source": [
    "mrf.Z"
   ]
  },
  {
   "cell_type": "code",
   "execution_count": 19,
   "metadata": {
    "collapsed": true
   },
   "outputs": [],
   "source": [
    "def uniform(x):\n",
    "    return 1.0\n",
    "\n",
    "# Z_uniform"
   ]
  },
  {
   "cell_type": "code",
   "execution_count": 20,
   "metadata": {
    "collapsed": false
   },
   "outputs": [],
   "source": [
    "import annealing_distributions\n",
    "beta_schedule = np.linspace(0,1,50)\n",
    "dists = [annealing_distributions.GeometricMean(uniform,mrf.p_star,beta) for beta in beta_schedule]"
   ]
  },
  {
   "cell_type": "code",
   "execution_count": 21,
   "metadata": {
    "collapsed": false
   },
   "outputs": [],
   "source": [
    "import transition_kernels\n",
    "\n",
    "class Binary_RWMH():\n",
    "    def __init__(self,target_f,fraction_to_mutate=0.1):\n",
    "        self.target_f=target_f\n",
    "        self.mut_rate = min(max(0,fraction_to_mutate),1) # constrain between 0 and 1\n",
    "    \n",
    "    def __call__(self,x,target_f):\n",
    "        mutation_string = npr.rand(len(x))<(self.mut_rate/2.0) # 1.0 mutation rate = 0.5 chance of bit flip\n",
    "        prop = 1*((x+mutation_string)>0) # roll 2's to 0s\n",
    "        f_old = target_f(x)\n",
    "        f_new = target_f(prop)\n",
    "        if npr.rand() < 1.0*f_new/f_old:\n",
    "            return prop\n",
    "        return x\n",
    "    \n",
    "kernels = [Binary_RWMH(dist) for dist in dists]"
   ]
  },
  {
   "cell_type": "code",
   "execution_count": 24,
   "metadata": {
    "collapsed": false
   },
   "outputs": [],
   "source": [
    "import ais\n",
    "Z_hat,_,_,ratios = ais.annealed_importance_sampling(sample_uniform_bit_string,kernels,dists)"
   ]
  },
  {
   "cell_type": "code",
   "execution_count": 25,
   "metadata": {
    "collapsed": false
   },
   "outputs": [
    {
     "data": {
      "text/plain": [
       "(1048576, 20)"
      ]
     },
     "execution_count": 25,
     "metadata": {},
     "output_type": "execute_result"
    }
   ],
   "source": [
    "xs.shape"
   ]
  },
  {
   "cell_type": "code",
   "execution_count": 26,
   "metadata": {
    "collapsed": false
   },
   "outputs": [
    {
     "data": {
      "text/plain": [
       "(1000, 49)"
      ]
     },
     "execution_count": 26,
     "metadata": {},
     "output_type": "execute_result"
    }
   ],
   "source": [
    "ratios.shape"
   ]
  },
  {
   "cell_type": "code",
   "execution_count": 27,
   "metadata": {
    "collapsed": false
   },
   "outputs": [
    {
     "data": {
      "image/png": "[encoded data removed]",
      "text/plain": [
       "<matplotlib.figure.Figure at 0x1166c0fd0>"
      ]
     },
     "metadata": {},
     "output_type": "display_data"
    }
   ],
   "source": [
    "standard_error = ratios.std(0)/np.sqrt(len(xs))\n",
    "plt.errorbar(range(len(ratios.T)),ratios.mean(0),yerr=standard_error);"
   ]
  },
  {
   "cell_type": "code",
   "execution_count": 28,
   "metadata": {
    "collapsed": true
   },
   "outputs": [],
   "source": [
    "# work\n",
    "work = np.log(Z_hat)\n",
    "\n",
    "# exponential average\n",
    "exp_avg = lambda work:np.log(np.exp(work).mean())"
   ]
  },
  {
   "cell_type": "code",
   "execution_count": 29,
   "metadata": {
    "collapsed": false
   },
   "outputs": [
    {
     "data": {
      "text/plain": [
       "9.8182229740394149"
      ]
     },
     "execution_count": 29,
     "metadata": {},
     "output_type": "execute_result"
    }
   ],
   "source": [
    "log_Z_is = np.log(Z_hat.mean())\n",
    "log_Z_is"
   ]
  },
  {
   "cell_type": "code",
   "execution_count": 30,
   "metadata": {
    "collapsed": false
   },
   "outputs": [
    {
     "data": {
      "text/plain": [
       "13.514044002819853"
      ]
     },
     "execution_count": 30,
     "metadata": {},
     "output_type": "execute_result"
    }
   ],
   "source": [
    "Z_true = mrf.Z/(2**n_units)\n",
    "np.log(Z_true)"
   ]
  },
  {
   "cell_type": "code",
   "execution_count": 31,
   "metadata": {
    "collapsed": false
   },
   "outputs": [],
   "source": [
    "def draw_exact_target_sample():\n",
    "    return xs[rv.rvs()]"
   ]
  },
  {
   "cell_type": "code",
   "execution_count": 32,
   "metadata": {
    "collapsed": false
   },
   "outputs": [
    {
     "data": {
      "text/plain": [
       "252344"
      ]
     },
     "execution_count": 32,
     "metadata": {},
     "output_type": "execute_result"
    }
   ],
   "source": [
    "rv.rvs()"
   ]
  },
  {
   "cell_type": "code",
   "execution_count": 33,
   "metadata": {
    "collapsed": false
   },
   "outputs": [
    {
     "data": {
      "text/plain": [
       "(1048576, 20)"
      ]
     },
     "execution_count": 33,
     "metadata": {},
     "output_type": "execute_result"
    }
   ],
   "source": [
    "xs.shape"
   ]
  },
  {
   "cell_type": "code",
   "execution_count": 34,
   "metadata": {
    "collapsed": false
   },
   "outputs": [],
   "source": [
    "Z_hat_,_,_,ratios_ = ais.annealed_importance_sampling(draw_exact_target_sample,kernels[::-1],dists[::-1])"
   ]
  },
  {
   "cell_type": "code",
   "execution_count": 35,
   "metadata": {
    "collapsed": false
   },
   "outputs": [
    {
     "data": {
      "text/plain": [
       "<matplotlib.collections.LineCollection at 0x11dae4ed0>"
      ]
     },
     "execution_count": 35,
     "metadata": {},
     "output_type": "execute_result"
    },
    {
     "data": {
      "image/png": "[encoded data removed]",
      "text/plain": [
       "<matplotlib.figure.Figure at 0x1166c0d50>"
      ]
     },
     "metadata": {},
     "output_type": "display_data"
    }
   ],
   "source": [
    "plt.plot(np.log(Z_hat))\n",
    "plt.plot(np.log(Z_hat_))\n",
    "plt.hlines(np.log(mrf.Z)/len(xs),0,len(Z_hat))"
   ]
  },
  {
   "cell_type": "code",
   "execution_count": 36,
   "metadata": {
    "collapsed": false
   },
   "outputs": [
    {
     "data": {
      "text/plain": [
       "2.6108729948061713e-05"
      ]
     },
     "execution_count": 36,
     "metadata": {},
     "output_type": "execute_result"
    }
   ],
   "source": [
    "np.log(mrf.Z)/len(xs)"
   ]
  },
  {
   "cell_type": "code",
   "execution_count": 37,
   "metadata": {
    "collapsed": false
   },
   "outputs": [
    {
     "data": {
      "image/png": "[encoded data removed]",
      "text/plain": [
       "<matplotlib.figure.Figure at 0x11e106090>"
      ]
     },
     "metadata": {},
     "output_type": "display_data"
    }
   ],
   "source": [
    "standard_error_ = ratios_.std(0)/np.sqrt(len(xs))\n",
    "plt.errorbar(range(len(ratios_.T)),ratios_.mean(0),yerr=standard_error_);"
   ]
  },
  {
   "cell_type": "code",
   "execution_count": 38,
   "metadata": {
    "collapsed": false
   },
   "outputs": [
    {
     "data": {
      "image/png": "[encoded data removed]",
      "text/plain": [
       "<matplotlib.figure.Figure at 0x11e50fbd0>"
      ]
     },
     "metadata": {},
     "output_type": "display_data"
    }
   ],
   "source": [
    "plt.errorbar(range(len(ratios_.T)),ratios_.mean(0)[::-1],yerr=standard_error_[::-1]);\n",
    "\n",
    "plt.errorbar(range(len(ratios.T)),ratios.mean(0),yerr=standard_error);"
   ]
  }
 ],
 "metadata": {
  "kernelspec": {
   "display_name": "Python 2",
   "language": "python",
   "name": "python2"
  },
  "language_info": {
   "codemirror_mode": {
    "name": "ipython",
    "version": 2
   },
   "file_extension": ".py",
   "mimetype": "text/x-python",
   "name": "python",
   "nbconvert_exporter": "python",
   "pygments_lexer": "ipython2",
   "version": "2.7.10"
  }
 },
 "nbformat": 4,
 "nbformat_minor": 0
}
